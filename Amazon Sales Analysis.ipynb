{
 "cells": [
  {
   "cell_type": "code",
   "execution_count": 1,
   "id": "e4bd580b",
   "metadata": {},
   "outputs": [],
   "source": [
    "import numpy as np\n",
    "import pandas as pd\n",
    "import matplotlib.pyplot as plt\n",
    "import seaborn as sns\n",
    "import warnings\n",
    "warnings.filterwarnings('ignore')"
   ]
  },
  {
   "cell_type": "code",
   "execution_count": 2,
   "id": "a46e7f9b",
   "metadata": {},
   "outputs": [
    {
     "data": {
      "text/html": [
       "<div>\n",
       "<style scoped>\n",
       "    .dataframe tbody tr th:only-of-type {\n",
       "        vertical-align: middle;\n",
       "    }\n",
       "\n",
       "    .dataframe tbody tr th {\n",
       "        vertical-align: top;\n",
       "    }\n",
       "\n",
       "    .dataframe thead th {\n",
       "        text-align: right;\n",
       "    }\n",
       "</style>\n",
       "<table border=\"1\" class=\"dataframe\">\n",
       "  <thead>\n",
       "    <tr style=\"text-align: right;\">\n",
       "      <th></th>\n",
       "      <th>product_id</th>\n",
       "      <th>product_name</th>\n",
       "      <th>category</th>\n",
       "      <th>discounted_price</th>\n",
       "      <th>actual_price</th>\n",
       "      <th>discount_percentage</th>\n",
       "      <th>rating</th>\n",
       "      <th>rating_count</th>\n",
       "      <th>about_product</th>\n",
       "      <th>user_id</th>\n",
       "      <th>user_name</th>\n",
       "      <th>review_id</th>\n",
       "      <th>review_title</th>\n",
       "      <th>review_content</th>\n",
       "      <th>img_link</th>\n",
       "      <th>product_link</th>\n",
       "    </tr>\n",
       "  </thead>\n",
       "  <tbody>\n",
       "    <tr>\n",
       "      <th>0</th>\n",
       "      <td>B07JW9H4J1</td>\n",
       "      <td>Wayona Nylon Braided USB to Lightning Fast Cha...</td>\n",
       "      <td>Computers&amp;Accessories|Accessories&amp;Peripherals|...</td>\n",
       "      <td>₹399</td>\n",
       "      <td>₹1,099</td>\n",
       "      <td>64%</td>\n",
       "      <td>4.2</td>\n",
       "      <td>24,269</td>\n",
       "      <td>High Compatibility : Compatible With iPhone 12...</td>\n",
       "      <td>AG3D6O4STAQKAY2UVGEUV46KN35Q,AHMY5CWJMMK5BJRBB...</td>\n",
       "      <td>Manav,Adarsh gupta,Sundeep,S.Sayeed Ahmed,jasp...</td>\n",
       "      <td>R3HXWT0LRP0NMF,R2AJM3LFTLZHFO,R6AQJGUP6P86,R1K...</td>\n",
       "      <td>Satisfied,Charging is really fast,Value for mo...</td>\n",
       "      <td>Looks durable Charging is fine tooNo complains...</td>\n",
       "      <td>https://m.media-amazon.com/images/W/WEBP_40237...</td>\n",
       "      <td>https://www.amazon.in/Wayona-Braided-WN3LG1-Sy...</td>\n",
       "    </tr>\n",
       "    <tr>\n",
       "      <th>1</th>\n",
       "      <td>B098NS6PVG</td>\n",
       "      <td>Ambrane Unbreakable 60W / 3A Fast Charging 1.5...</td>\n",
       "      <td>Computers&amp;Accessories|Accessories&amp;Peripherals|...</td>\n",
       "      <td>₹199</td>\n",
       "      <td>₹349</td>\n",
       "      <td>43%</td>\n",
       "      <td>4.0</td>\n",
       "      <td>43,994</td>\n",
       "      <td>Compatible with all Type C enabled devices, be...</td>\n",
       "      <td>AECPFYFQVRUWC3KGNLJIOREFP5LQ,AGYYVPDD7YG7FYNBX...</td>\n",
       "      <td>ArdKn,Nirbhay kumar,Sagar Viswanathan,Asp,Plac...</td>\n",
       "      <td>RGIQEG07R9HS2,R1SMWZQ86XIN8U,R2J3Y1WL29GWDE,RY...</td>\n",
       "      <td>A Good Braided Cable for Your Type C Device,Go...</td>\n",
       "      <td>I ordered this cable to connect my phone to An...</td>\n",
       "      <td>https://m.media-amazon.com/images/W/WEBP_40237...</td>\n",
       "      <td>https://www.amazon.in/Ambrane-Unbreakable-Char...</td>\n",
       "    </tr>\n",
       "    <tr>\n",
       "      <th>2</th>\n",
       "      <td>B096MSW6CT</td>\n",
       "      <td>Sounce Fast Phone Charging Cable &amp; Data Sync U...</td>\n",
       "      <td>Computers&amp;Accessories|Accessories&amp;Peripherals|...</td>\n",
       "      <td>₹199</td>\n",
       "      <td>₹1,899</td>\n",
       "      <td>90%</td>\n",
       "      <td>3.9</td>\n",
       "      <td>7,928</td>\n",
       "      <td>【 Fast Charger&amp; Data Sync】-With built-in safet...</td>\n",
       "      <td>AGU3BBQ2V2DDAMOAKGFAWDDQ6QHA,AESFLDV2PT363T2AQ...</td>\n",
       "      <td>Kunal,Himanshu,viswanath,sai niharka,saqib mal...</td>\n",
       "      <td>R3J3EQQ9TZI5ZJ,R3E7WBGK7ID0KV,RWU79XKQ6I1QF,R2...</td>\n",
       "      <td>Good speed for earlier versions,Good Product,W...</td>\n",
       "      <td>Not quite durable and sturdy,https://m.media-a...</td>\n",
       "      <td>https://m.media-amazon.com/images/W/WEBP_40237...</td>\n",
       "      <td>https://www.amazon.in/Sounce-iPhone-Charging-C...</td>\n",
       "    </tr>\n",
       "    <tr>\n",
       "      <th>3</th>\n",
       "      <td>B08HDJ86NZ</td>\n",
       "      <td>boAt Deuce USB 300 2 in 1 Type-C &amp; Micro USB S...</td>\n",
       "      <td>Computers&amp;Accessories|Accessories&amp;Peripherals|...</td>\n",
       "      <td>₹329</td>\n",
       "      <td>₹699</td>\n",
       "      <td>53%</td>\n",
       "      <td>4.2</td>\n",
       "      <td>94,363</td>\n",
       "      <td>The boAt Deuce USB 300 2 in 1 cable is compati...</td>\n",
       "      <td>AEWAZDZZJLQUYVOVGBEUKSLXHQ5A,AG5HTSFRRE6NL3M5S...</td>\n",
       "      <td>Omkar dhale,JD,HEMALATHA,Ajwadh a.,amar singh ...</td>\n",
       "      <td>R3EEUZKKK9J36I,R3HJVYCLYOY554,REDECAZ7AMPQC,R1...</td>\n",
       "      <td>Good product,Good one,Nice,Really nice product...</td>\n",
       "      <td>Good product,long wire,Charges good,Nice,I bou...</td>\n",
       "      <td>https://m.media-amazon.com/images/I/41V5FtEWPk...</td>\n",
       "      <td>https://www.amazon.in/Deuce-300-Resistant-Tang...</td>\n",
       "    </tr>\n",
       "    <tr>\n",
       "      <th>4</th>\n",
       "      <td>B08CF3B7N1</td>\n",
       "      <td>Portronics Konnect L 1.2M Fast Charging 3A 8 P...</td>\n",
       "      <td>Computers&amp;Accessories|Accessories&amp;Peripherals|...</td>\n",
       "      <td>₹154</td>\n",
       "      <td>₹399</td>\n",
       "      <td>61%</td>\n",
       "      <td>4.2</td>\n",
       "      <td>16,905</td>\n",
       "      <td>[CHARGE &amp; SYNC FUNCTION]- This cable comes wit...</td>\n",
       "      <td>AE3Q6KSUK5P75D5HFYHCRAOLODSA,AFUGIFH5ZAFXRDSZH...</td>\n",
       "      <td>rahuls6099,Swasat Borah,Ajay Wadke,Pranali,RVK...</td>\n",
       "      <td>R1BP4L2HH9TFUP,R16PVJEXKV6QZS,R2UPDB81N66T4P,R...</td>\n",
       "      <td>As good as original,Decent,Good one for second...</td>\n",
       "      <td>Bought this instead of original apple, does th...</td>\n",
       "      <td>https://m.media-amazon.com/images/W/WEBP_40237...</td>\n",
       "      <td>https://www.amazon.in/Portronics-Konnect-POR-1...</td>\n",
       "    </tr>\n",
       "  </tbody>\n",
       "</table>\n",
       "</div>"
      ],
      "text/plain": [
       "   product_id                                       product_name  \\\n",
       "0  B07JW9H4J1  Wayona Nylon Braided USB to Lightning Fast Cha...   \n",
       "1  B098NS6PVG  Ambrane Unbreakable 60W / 3A Fast Charging 1.5...   \n",
       "2  B096MSW6CT  Sounce Fast Phone Charging Cable & Data Sync U...   \n",
       "3  B08HDJ86NZ  boAt Deuce USB 300 2 in 1 Type-C & Micro USB S...   \n",
       "4  B08CF3B7N1  Portronics Konnect L 1.2M Fast Charging 3A 8 P...   \n",
       "\n",
       "                                            category discounted_price  \\\n",
       "0  Computers&Accessories|Accessories&Peripherals|...             ₹399   \n",
       "1  Computers&Accessories|Accessories&Peripherals|...             ₹199   \n",
       "2  Computers&Accessories|Accessories&Peripherals|...             ₹199   \n",
       "3  Computers&Accessories|Accessories&Peripherals|...             ₹329   \n",
       "4  Computers&Accessories|Accessories&Peripherals|...             ₹154   \n",
       "\n",
       "  actual_price discount_percentage rating rating_count  \\\n",
       "0       ₹1,099                 64%    4.2       24,269   \n",
       "1         ₹349                 43%    4.0       43,994   \n",
       "2       ₹1,899                 90%    3.9        7,928   \n",
       "3         ₹699                 53%    4.2       94,363   \n",
       "4         ₹399                 61%    4.2       16,905   \n",
       "\n",
       "                                       about_product  \\\n",
       "0  High Compatibility : Compatible With iPhone 12...   \n",
       "1  Compatible with all Type C enabled devices, be...   \n",
       "2  【 Fast Charger& Data Sync】-With built-in safet...   \n",
       "3  The boAt Deuce USB 300 2 in 1 cable is compati...   \n",
       "4  [CHARGE & SYNC FUNCTION]- This cable comes wit...   \n",
       "\n",
       "                                             user_id  \\\n",
       "0  AG3D6O4STAQKAY2UVGEUV46KN35Q,AHMY5CWJMMK5BJRBB...   \n",
       "1  AECPFYFQVRUWC3KGNLJIOREFP5LQ,AGYYVPDD7YG7FYNBX...   \n",
       "2  AGU3BBQ2V2DDAMOAKGFAWDDQ6QHA,AESFLDV2PT363T2AQ...   \n",
       "3  AEWAZDZZJLQUYVOVGBEUKSLXHQ5A,AG5HTSFRRE6NL3M5S...   \n",
       "4  AE3Q6KSUK5P75D5HFYHCRAOLODSA,AFUGIFH5ZAFXRDSZH...   \n",
       "\n",
       "                                           user_name  \\\n",
       "0  Manav,Adarsh gupta,Sundeep,S.Sayeed Ahmed,jasp...   \n",
       "1  ArdKn,Nirbhay kumar,Sagar Viswanathan,Asp,Plac...   \n",
       "2  Kunal,Himanshu,viswanath,sai niharka,saqib mal...   \n",
       "3  Omkar dhale,JD,HEMALATHA,Ajwadh a.,amar singh ...   \n",
       "4  rahuls6099,Swasat Borah,Ajay Wadke,Pranali,RVK...   \n",
       "\n",
       "                                           review_id  \\\n",
       "0  R3HXWT0LRP0NMF,R2AJM3LFTLZHFO,R6AQJGUP6P86,R1K...   \n",
       "1  RGIQEG07R9HS2,R1SMWZQ86XIN8U,R2J3Y1WL29GWDE,RY...   \n",
       "2  R3J3EQQ9TZI5ZJ,R3E7WBGK7ID0KV,RWU79XKQ6I1QF,R2...   \n",
       "3  R3EEUZKKK9J36I,R3HJVYCLYOY554,REDECAZ7AMPQC,R1...   \n",
       "4  R1BP4L2HH9TFUP,R16PVJEXKV6QZS,R2UPDB81N66T4P,R...   \n",
       "\n",
       "                                        review_title  \\\n",
       "0  Satisfied,Charging is really fast,Value for mo...   \n",
       "1  A Good Braided Cable for Your Type C Device,Go...   \n",
       "2  Good speed for earlier versions,Good Product,W...   \n",
       "3  Good product,Good one,Nice,Really nice product...   \n",
       "4  As good as original,Decent,Good one for second...   \n",
       "\n",
       "                                      review_content  \\\n",
       "0  Looks durable Charging is fine tooNo complains...   \n",
       "1  I ordered this cable to connect my phone to An...   \n",
       "2  Not quite durable and sturdy,https://m.media-a...   \n",
       "3  Good product,long wire,Charges good,Nice,I bou...   \n",
       "4  Bought this instead of original apple, does th...   \n",
       "\n",
       "                                            img_link  \\\n",
       "0  https://m.media-amazon.com/images/W/WEBP_40237...   \n",
       "1  https://m.media-amazon.com/images/W/WEBP_40237...   \n",
       "2  https://m.media-amazon.com/images/W/WEBP_40237...   \n",
       "3  https://m.media-amazon.com/images/I/41V5FtEWPk...   \n",
       "4  https://m.media-amazon.com/images/W/WEBP_40237...   \n",
       "\n",
       "                                        product_link  \n",
       "0  https://www.amazon.in/Wayona-Braided-WN3LG1-Sy...  \n",
       "1  https://www.amazon.in/Ambrane-Unbreakable-Char...  \n",
       "2  https://www.amazon.in/Sounce-iPhone-Charging-C...  \n",
       "3  https://www.amazon.in/Deuce-300-Resistant-Tang...  \n",
       "4  https://www.amazon.in/Portronics-Konnect-POR-1...  "
      ]
     },
     "execution_count": 2,
     "metadata": {},
     "output_type": "execute_result"
    }
   ],
   "source": [
    "df = pd.read_csv(\"amazon.csv\")\n",
    "df.head()"
   ]
  },
  {
   "cell_type": "code",
   "execution_count": 3,
   "id": "3e252d1a",
   "metadata": {},
   "outputs": [
    {
     "data": {
      "text/plain": [
       "(1465, 16)"
      ]
     },
     "execution_count": 3,
     "metadata": {},
     "output_type": "execute_result"
    }
   ],
   "source": [
    "df.shape"
   ]
  },
  {
   "cell_type": "code",
   "execution_count": 4,
   "id": "6638e052",
   "metadata": {},
   "outputs": [
    {
     "data": {
      "text/plain": [
       "product_id             1351\n",
       "product_name           1337\n",
       "category                211\n",
       "discounted_price        550\n",
       "actual_price            449\n",
       "discount_percentage      92\n",
       "rating                   28\n",
       "rating_count           1143\n",
       "about_product          1293\n",
       "user_id                1194\n",
       "user_name              1194\n",
       "review_id              1194\n",
       "review_title           1194\n",
       "review_content         1212\n",
       "img_link               1412\n",
       "product_link           1465\n",
       "dtype: int64"
      ]
     },
     "execution_count": 4,
     "metadata": {},
     "output_type": "execute_result"
    }
   ],
   "source": [
    "df.nunique()"
   ]
  },
  {
   "cell_type": "code",
   "execution_count": 5,
   "id": "8f9a2a53",
   "metadata": {},
   "outputs": [
    {
     "data": {
      "text/html": [
       "<div>\n",
       "<style scoped>\n",
       "    .dataframe tbody tr th:only-of-type {\n",
       "        vertical-align: middle;\n",
       "    }\n",
       "\n",
       "    .dataframe tbody tr th {\n",
       "        vertical-align: top;\n",
       "    }\n",
       "\n",
       "    .dataframe thead th {\n",
       "        text-align: right;\n",
       "    }\n",
       "</style>\n",
       "<table border=\"1\" class=\"dataframe\">\n",
       "  <thead>\n",
       "    <tr style=\"text-align: right;\">\n",
       "      <th></th>\n",
       "      <th>product_id</th>\n",
       "      <th>product_name</th>\n",
       "      <th>category</th>\n",
       "      <th>discounted_price</th>\n",
       "      <th>actual_price</th>\n",
       "      <th>discount_percentage</th>\n",
       "      <th>rating</th>\n",
       "      <th>rating_count</th>\n",
       "      <th>about_product</th>\n",
       "      <th>user_id</th>\n",
       "      <th>user_name</th>\n",
       "      <th>review_id</th>\n",
       "      <th>review_title</th>\n",
       "      <th>review_content</th>\n",
       "      <th>img_link</th>\n",
       "      <th>product_link</th>\n",
       "    </tr>\n",
       "  </thead>\n",
       "  <tbody>\n",
       "    <tr>\n",
       "      <th>count</th>\n",
       "      <td>1465</td>\n",
       "      <td>1465</td>\n",
       "      <td>1465</td>\n",
       "      <td>1465</td>\n",
       "      <td>1465</td>\n",
       "      <td>1465</td>\n",
       "      <td>1465</td>\n",
       "      <td>1463</td>\n",
       "      <td>1465</td>\n",
       "      <td>1465</td>\n",
       "      <td>1465</td>\n",
       "      <td>1465</td>\n",
       "      <td>1465</td>\n",
       "      <td>1465</td>\n",
       "      <td>1465</td>\n",
       "      <td>1465</td>\n",
       "    </tr>\n",
       "    <tr>\n",
       "      <th>unique</th>\n",
       "      <td>1351</td>\n",
       "      <td>1337</td>\n",
       "      <td>211</td>\n",
       "      <td>550</td>\n",
       "      <td>449</td>\n",
       "      <td>92</td>\n",
       "      <td>28</td>\n",
       "      <td>1143</td>\n",
       "      <td>1293</td>\n",
       "      <td>1194</td>\n",
       "      <td>1194</td>\n",
       "      <td>1194</td>\n",
       "      <td>1194</td>\n",
       "      <td>1212</td>\n",
       "      <td>1412</td>\n",
       "      <td>1465</td>\n",
       "    </tr>\n",
       "    <tr>\n",
       "      <th>top</th>\n",
       "      <td>B07JW9H4J1</td>\n",
       "      <td>Fire-Boltt Ninja Call Pro Plus 1.83\" Smart Wat...</td>\n",
       "      <td>Computers&amp;Accessories|Accessories&amp;Peripherals|...</td>\n",
       "      <td>₹199</td>\n",
       "      <td>₹999</td>\n",
       "      <td>50%</td>\n",
       "      <td>4.1</td>\n",
       "      <td>9,378</td>\n",
       "      <td>[CHARGE &amp; SYNC FUNCTION]- This cable comes wit...</td>\n",
       "      <td>AHIKJUDTVJ4T6DV6IUGFYZ5LXMPA,AE55KTFVNXYFD5FPY...</td>\n",
       "      <td>$@|\\|TO$|-|,Sethu madhav,Akash Thakur,Burger P...</td>\n",
       "      <td>R3F4T5TRYPTMIG,R3DQIEC603E7AY,R1O4Z15FD40PV5,R...</td>\n",
       "      <td>Worked on iPhone 7 and didn’t work on XR,Good ...</td>\n",
       "      <td>I am not big on camera usage, personally. I wa...</td>\n",
       "      <td>https://m.media-amazon.com/images/I/413sCRKobN...</td>\n",
       "      <td>https://www.amazon.in/Wayona-Braided-WN3LG1-Sy...</td>\n",
       "    </tr>\n",
       "    <tr>\n",
       "      <th>freq</th>\n",
       "      <td>3</td>\n",
       "      <td>5</td>\n",
       "      <td>233</td>\n",
       "      <td>53</td>\n",
       "      <td>120</td>\n",
       "      <td>56</td>\n",
       "      <td>244</td>\n",
       "      <td>9</td>\n",
       "      <td>6</td>\n",
       "      <td>10</td>\n",
       "      <td>10</td>\n",
       "      <td>10</td>\n",
       "      <td>10</td>\n",
       "      <td>8</td>\n",
       "      <td>3</td>\n",
       "      <td>1</td>\n",
       "    </tr>\n",
       "  </tbody>\n",
       "</table>\n",
       "</div>"
      ],
      "text/plain": [
       "        product_id                                       product_name  \\\n",
       "count         1465                                               1465   \n",
       "unique        1351                                               1337   \n",
       "top     B07JW9H4J1  Fire-Boltt Ninja Call Pro Plus 1.83\" Smart Wat...   \n",
       "freq             3                                                  5   \n",
       "\n",
       "                                                 category discounted_price  \\\n",
       "count                                                1465             1465   \n",
       "unique                                                211              550   \n",
       "top     Computers&Accessories|Accessories&Peripherals|...             ₹199   \n",
       "freq                                                  233               53   \n",
       "\n",
       "       actual_price discount_percentage rating rating_count  \\\n",
       "count          1465                1465   1465         1463   \n",
       "unique          449                  92     28         1143   \n",
       "top            ₹999                 50%    4.1        9,378   \n",
       "freq            120                  56    244            9   \n",
       "\n",
       "                                            about_product  \\\n",
       "count                                                1465   \n",
       "unique                                               1293   \n",
       "top     [CHARGE & SYNC FUNCTION]- This cable comes wit...   \n",
       "freq                                                    6   \n",
       "\n",
       "                                                  user_id  \\\n",
       "count                                                1465   \n",
       "unique                                               1194   \n",
       "top     AHIKJUDTVJ4T6DV6IUGFYZ5LXMPA,AE55KTFVNXYFD5FPY...   \n",
       "freq                                                   10   \n",
       "\n",
       "                                                user_name  \\\n",
       "count                                                1465   \n",
       "unique                                               1194   \n",
       "top     $@|\\|TO$|-|,Sethu madhav,Akash Thakur,Burger P...   \n",
       "freq                                                   10   \n",
       "\n",
       "                                                review_id  \\\n",
       "count                                                1465   \n",
       "unique                                               1194   \n",
       "top     R3F4T5TRYPTMIG,R3DQIEC603E7AY,R1O4Z15FD40PV5,R...   \n",
       "freq                                                   10   \n",
       "\n",
       "                                             review_title  \\\n",
       "count                                                1465   \n",
       "unique                                               1194   \n",
       "top     Worked on iPhone 7 and didn’t work on XR,Good ...   \n",
       "freq                                                   10   \n",
       "\n",
       "                                           review_content  \\\n",
       "count                                                1465   \n",
       "unique                                               1212   \n",
       "top     I am not big on camera usage, personally. I wa...   \n",
       "freq                                                    8   \n",
       "\n",
       "                                                 img_link  \\\n",
       "count                                                1465   \n",
       "unique                                               1412   \n",
       "top     https://m.media-amazon.com/images/I/413sCRKobN...   \n",
       "freq                                                    3   \n",
       "\n",
       "                                             product_link  \n",
       "count                                                1465  \n",
       "unique                                               1465  \n",
       "top     https://www.amazon.in/Wayona-Braided-WN3LG1-Sy...  \n",
       "freq                                                    1  "
      ]
     },
     "execution_count": 5,
     "metadata": {},
     "output_type": "execute_result"
    }
   ],
   "source": [
    "df.describe()"
   ]
  },
  {
   "cell_type": "code",
   "execution_count": 6,
   "id": "d9a2dfff",
   "metadata": {},
   "outputs": [
    {
     "data": {
      "text/plain": [
       "product_id             0\n",
       "product_name           0\n",
       "category               0\n",
       "discounted_price       0\n",
       "actual_price           0\n",
       "discount_percentage    0\n",
       "rating                 0\n",
       "rating_count           2\n",
       "about_product          0\n",
       "user_id                0\n",
       "user_name              0\n",
       "review_id              0\n",
       "review_title           0\n",
       "review_content         0\n",
       "img_link               0\n",
       "product_link           0\n",
       "dtype: int64"
      ]
     },
     "execution_count": 6,
     "metadata": {},
     "output_type": "execute_result"
    }
   ],
   "source": [
    "#checking for missing values in each column\n",
    "df.isnull().sum()"
   ]
  },
  {
   "cell_type": "markdown",
   "id": "fee448c5",
   "metadata": {},
   "source": [
    "# Handling the Null values in the Dataset"
   ]
  },
  {
   "cell_type": "code",
   "execution_count": 7,
   "id": "92585ba8",
   "metadata": {},
   "outputs": [],
   "source": [
    "df=df.dropna()"
   ]
  },
  {
   "cell_type": "code",
   "execution_count": 8,
   "id": "93f04420",
   "metadata": {},
   "outputs": [
    {
     "data": {
      "text/plain": [
       "product_id             0\n",
       "product_name           0\n",
       "category               0\n",
       "discounted_price       0\n",
       "actual_price           0\n",
       "discount_percentage    0\n",
       "rating                 0\n",
       "rating_count           0\n",
       "about_product          0\n",
       "user_id                0\n",
       "user_name              0\n",
       "review_id              0\n",
       "review_title           0\n",
       "review_content         0\n",
       "img_link               0\n",
       "product_link           0\n",
       "dtype: int64"
      ]
     },
     "execution_count": 8,
     "metadata": {},
     "output_type": "execute_result"
    }
   ],
   "source": [
    "df.isnull().sum()"
   ]
  },
  {
   "cell_type": "code",
   "execution_count": 9,
   "id": "ccac3f56",
   "metadata": {},
   "outputs": [
    {
     "data": {
      "text/html": [
       "<div>\n",
       "<style scoped>\n",
       "    .dataframe tbody tr th:only-of-type {\n",
       "        vertical-align: middle;\n",
       "    }\n",
       "\n",
       "    .dataframe tbody tr th {\n",
       "        vertical-align: top;\n",
       "    }\n",
       "\n",
       "    .dataframe thead th {\n",
       "        text-align: right;\n",
       "    }\n",
       "</style>\n",
       "<table border=\"1\" class=\"dataframe\">\n",
       "  <thead>\n",
       "    <tr style=\"text-align: right;\">\n",
       "      <th></th>\n",
       "      <th>product_id</th>\n",
       "      <th>product_name</th>\n",
       "      <th>category</th>\n",
       "      <th>discounted_price</th>\n",
       "      <th>actual_price</th>\n",
       "      <th>discount_percentage</th>\n",
       "      <th>rating</th>\n",
       "      <th>rating_count</th>\n",
       "      <th>about_product</th>\n",
       "      <th>user_id</th>\n",
       "      <th>user_name</th>\n",
       "      <th>review_id</th>\n",
       "      <th>review_title</th>\n",
       "      <th>review_content</th>\n",
       "      <th>img_link</th>\n",
       "      <th>product_link</th>\n",
       "    </tr>\n",
       "  </thead>\n",
       "  <tbody>\n",
       "  </tbody>\n",
       "</table>\n",
       "</div>"
      ],
      "text/plain": [
       "Empty DataFrame\n",
       "Columns: [product_id, product_name, category, discounted_price, actual_price, discount_percentage, rating, rating_count, about_product, user_id, user_name, review_id, review_title, review_content, img_link, product_link]\n",
       "Index: []"
      ]
     },
     "execution_count": 9,
     "metadata": {},
     "output_type": "execute_result"
    }
   ],
   "source": [
    "#checking for duplicate rows\n",
    "duplicate_rows = df[df.duplicated()]\n",
    "duplicate_rows"
   ]
  },
  {
   "cell_type": "markdown",
   "id": "0657cb5f",
   "metadata": {},
   "source": [
    "There are no duplicate rows in the dataset"
   ]
  },
  {
   "cell_type": "code",
   "execution_count": 10,
   "id": "880f56de",
   "metadata": {},
   "outputs": [
    {
     "data": {
      "text/plain": [
       "product_id             object\n",
       "product_name           object\n",
       "category               object\n",
       "discounted_price       object\n",
       "actual_price           object\n",
       "discount_percentage    object\n",
       "rating                 object\n",
       "rating_count           object\n",
       "about_product          object\n",
       "user_id                object\n",
       "user_name              object\n",
       "review_id              object\n",
       "review_title           object\n",
       "review_content         object\n",
       "img_link               object\n",
       "product_link           object\n",
       "dtype: object"
      ]
     },
     "execution_count": 10,
     "metadata": {},
     "output_type": "execute_result"
    }
   ],
   "source": [
    "df.dtypes"
   ]
  },
  {
   "cell_type": "markdown",
   "id": "629d174a",
   "metadata": {},
   "source": [
    "# Replace string values and change data type\n",
    "\n",
    "The columns 'discounted_price', 'actual_price', 'discount_percentage' and 'rating_count' contain string values, even though they are intended to be numerical columns. To address this issue, we need to replace the string values with appropriate numerical values and change the data type of these columns to numeric."
   ]
  },
  {
   "cell_type": "code",
   "execution_count": 11,
   "id": "5a0a10d7",
   "metadata": {},
   "outputs": [],
   "source": [
    "df['discounted_price']= df['discounted_price'].str.replace('₹','').str.replace(',','').astype(float)\n",
    "df['actual_price']= df['actual_price'].str.replace('₹','').str.replace(',','').astype(float)\n",
    "df['discount_percentage']= df['discount_percentage'].str.replace('%','').astype(float)\n",
    "df['rating_count']= df['rating_count'].str.replace(',','').astype(float)"
   ]
  },
  {
   "cell_type": "code",
   "execution_count": 12,
   "id": "6eaac6fc",
   "metadata": {},
   "outputs": [
    {
     "data": {
      "text/plain": [
       "rating\n",
       "4.1    244\n",
       "4.3    230\n",
       "4.2    228\n",
       "4.0    129\n",
       "3.9    123\n",
       "4.4    123\n",
       "3.8     86\n",
       "4.5     75\n",
       "4       52\n",
       "3.7     42\n",
       "3.6     35\n",
       "3.5     26\n",
       "4.6     17\n",
       "3.3     16\n",
       "3.4     10\n",
       "4.7      6\n",
       "3.1      4\n",
       "4.8      3\n",
       "3.2      2\n",
       "2.8      2\n",
       "3.0      2\n",
       "5.0      2\n",
       "2.3      1\n",
       "|        1\n",
       "2        1\n",
       "3        1\n",
       "2.6      1\n",
       "2.9      1\n",
       "Name: count, dtype: int64"
      ]
     },
     "execution_count": 12,
     "metadata": {},
     "output_type": "execute_result"
    }
   ],
   "source": [
    "pd.options.display.max_rows = None\n",
    "df['rating'].value_counts()"
   ]
  },
  {
   "cell_type": "markdown",
   "id": "77302aef",
   "metadata": {},
   "source": [
    "Notice the unusual row containing '|'. We need to replace it with a different value. We can either impute the mode or attempt to use the link to see the values. In my case, the link is not working, so I will opt for mode imputation."
   ]
  },
  {
   "cell_type": "code",
   "execution_count": 13,
   "id": "1a56350e",
   "metadata": {},
   "outputs": [
    {
     "data": {
      "text/plain": [
       "0    4.1\n",
       "Name: rating, dtype: object"
      ]
     },
     "execution_count": 13,
     "metadata": {},
     "output_type": "execute_result"
    }
   ],
   "source": [
    "df['rating'].mode()"
   ]
  },
  {
   "cell_type": "code",
   "execution_count": 14,
   "id": "78bcca10",
   "metadata": {},
   "outputs": [],
   "source": [
    "df['rating']= df['rating'].str.replace('|','4.1').astype(float)"
   ]
  },
  {
   "cell_type": "markdown",
   "id": "2b23963e",
   "metadata": {},
   "source": [
    "# Remove Irrelevant Columns\n",
    "I will remove the columns 'about_product', 'user_name', 'review_title', 'review_content', 'user_id', 'review_id', 'img_link' and 'product_link' from the dataset because they contain links, URLs, or irrelevant information. This removal will allow me to focus on the features that are most relevant to my specific analytical tasks, making my workflow more efficient and interpretable."
   ]
  },
  {
   "cell_type": "code",
   "execution_count": 15,
   "id": "8a953e6f",
   "metadata": {},
   "outputs": [],
   "source": [
    "df=df.drop(['about_product', 'user_name', 'review_title', 'review_content',\n",
    "            'user_id', 'review_id', 'img_link','product_link'], axis=1)"
   ]
  },
  {
   "cell_type": "code",
   "execution_count": 16,
   "id": "00a3b216",
   "metadata": {},
   "outputs": [
    {
     "data": {
      "text/html": [
       "<div>\n",
       "<style scoped>\n",
       "    .dataframe tbody tr th:only-of-type {\n",
       "        vertical-align: middle;\n",
       "    }\n",
       "\n",
       "    .dataframe tbody tr th {\n",
       "        vertical-align: top;\n",
       "    }\n",
       "\n",
       "    .dataframe thead th {\n",
       "        text-align: right;\n",
       "    }\n",
       "</style>\n",
       "<table border=\"1\" class=\"dataframe\">\n",
       "  <thead>\n",
       "    <tr style=\"text-align: right;\">\n",
       "      <th></th>\n",
       "      <th>product_id</th>\n",
       "      <th>product_name</th>\n",
       "      <th>category</th>\n",
       "      <th>discounted_price</th>\n",
       "      <th>actual_price</th>\n",
       "      <th>discount_percentage</th>\n",
       "      <th>rating</th>\n",
       "      <th>rating_count</th>\n",
       "    </tr>\n",
       "  </thead>\n",
       "  <tbody>\n",
       "    <tr>\n",
       "      <th>0</th>\n",
       "      <td>B07JW9H4J1</td>\n",
       "      <td>Wayona Nylon Braided USB to Lightning Fast Cha...</td>\n",
       "      <td>Computers&amp;Accessories|Accessories&amp;Peripherals|...</td>\n",
       "      <td>399.0</td>\n",
       "      <td>1099.0</td>\n",
       "      <td>64.0</td>\n",
       "      <td>4.2</td>\n",
       "      <td>24269.0</td>\n",
       "    </tr>\n",
       "    <tr>\n",
       "      <th>1</th>\n",
       "      <td>B098NS6PVG</td>\n",
       "      <td>Ambrane Unbreakable 60W / 3A Fast Charging 1.5...</td>\n",
       "      <td>Computers&amp;Accessories|Accessories&amp;Peripherals|...</td>\n",
       "      <td>199.0</td>\n",
       "      <td>349.0</td>\n",
       "      <td>43.0</td>\n",
       "      <td>4.0</td>\n",
       "      <td>43994.0</td>\n",
       "    </tr>\n",
       "    <tr>\n",
       "      <th>2</th>\n",
       "      <td>B096MSW6CT</td>\n",
       "      <td>Sounce Fast Phone Charging Cable &amp; Data Sync U...</td>\n",
       "      <td>Computers&amp;Accessories|Accessories&amp;Peripherals|...</td>\n",
       "      <td>199.0</td>\n",
       "      <td>1899.0</td>\n",
       "      <td>90.0</td>\n",
       "      <td>3.9</td>\n",
       "      <td>7928.0</td>\n",
       "    </tr>\n",
       "    <tr>\n",
       "      <th>3</th>\n",
       "      <td>B08HDJ86NZ</td>\n",
       "      <td>boAt Deuce USB 300 2 in 1 Type-C &amp; Micro USB S...</td>\n",
       "      <td>Computers&amp;Accessories|Accessories&amp;Peripherals|...</td>\n",
       "      <td>329.0</td>\n",
       "      <td>699.0</td>\n",
       "      <td>53.0</td>\n",
       "      <td>4.2</td>\n",
       "      <td>94363.0</td>\n",
       "    </tr>\n",
       "    <tr>\n",
       "      <th>4</th>\n",
       "      <td>B08CF3B7N1</td>\n",
       "      <td>Portronics Konnect L 1.2M Fast Charging 3A 8 P...</td>\n",
       "      <td>Computers&amp;Accessories|Accessories&amp;Peripherals|...</td>\n",
       "      <td>154.0</td>\n",
       "      <td>399.0</td>\n",
       "      <td>61.0</td>\n",
       "      <td>4.2</td>\n",
       "      <td>16905.0</td>\n",
       "    </tr>\n",
       "  </tbody>\n",
       "</table>\n",
       "</div>"
      ],
      "text/plain": [
       "   product_id                                       product_name  \\\n",
       "0  B07JW9H4J1  Wayona Nylon Braided USB to Lightning Fast Cha...   \n",
       "1  B098NS6PVG  Ambrane Unbreakable 60W / 3A Fast Charging 1.5...   \n",
       "2  B096MSW6CT  Sounce Fast Phone Charging Cable & Data Sync U...   \n",
       "3  B08HDJ86NZ  boAt Deuce USB 300 2 in 1 Type-C & Micro USB S...   \n",
       "4  B08CF3B7N1  Portronics Konnect L 1.2M Fast Charging 3A 8 P...   \n",
       "\n",
       "                                            category  discounted_price  \\\n",
       "0  Computers&Accessories|Accessories&Peripherals|...             399.0   \n",
       "1  Computers&Accessories|Accessories&Peripherals|...             199.0   \n",
       "2  Computers&Accessories|Accessories&Peripherals|...             199.0   \n",
       "3  Computers&Accessories|Accessories&Peripherals|...             329.0   \n",
       "4  Computers&Accessories|Accessories&Peripherals|...             154.0   \n",
       "\n",
       "   actual_price  discount_percentage  rating  rating_count  \n",
       "0        1099.0                 64.0     4.2       24269.0  \n",
       "1         349.0                 43.0     4.0       43994.0  \n",
       "2        1899.0                 90.0     3.9        7928.0  \n",
       "3         699.0                 53.0     4.2       94363.0  \n",
       "4         399.0                 61.0     4.2       16905.0  "
      ]
     },
     "execution_count": 16,
     "metadata": {},
     "output_type": "execute_result"
    }
   ],
   "source": [
    "df.head()"
   ]
  },
  {
   "cell_type": "markdown",
   "id": "84763ec0",
   "metadata": {},
   "source": [
    "The \"category\" column appears to be unstructured. To make it more specific, we will split it into the main category and sub-category."
   ]
  },
  {
   "cell_type": "code",
   "execution_count": 17,
   "id": "245e3885",
   "metadata": {},
   "outputs": [
    {
     "data": {
      "text/plain": [
       "0       0\n",
       "1       0\n",
       "2       8\n",
       "3     165\n",
       "4     943\n",
       "5    1378\n",
       "6    1450\n",
       "dtype: int64"
      ]
     },
     "execution_count": 17,
     "metadata": {},
     "output_type": "execute_result"
    }
   ],
   "source": [
    "category_split = df['category'].str.split('|', expand=True)\n",
    "category_split.isnull().sum()"
   ]
  },
  {
   "cell_type": "code",
   "execution_count": 18,
   "id": "7bbbefbb",
   "metadata": {},
   "outputs": [],
   "source": [
    "category_split = category_split.rename(columns={0:'Category', 1:'Sub category'})"
   ]
  },
  {
   "cell_type": "code",
   "execution_count": 19,
   "id": "81646ea0",
   "metadata": {},
   "outputs": [
    {
     "data": {
      "text/html": [
       "<div>\n",
       "<style scoped>\n",
       "    .dataframe tbody tr th:only-of-type {\n",
       "        vertical-align: middle;\n",
       "    }\n",
       "\n",
       "    .dataframe tbody tr th {\n",
       "        vertical-align: top;\n",
       "    }\n",
       "\n",
       "    .dataframe thead th {\n",
       "        text-align: right;\n",
       "    }\n",
       "</style>\n",
       "<table border=\"1\" class=\"dataframe\">\n",
       "  <thead>\n",
       "    <tr style=\"text-align: right;\">\n",
       "      <th></th>\n",
       "      <th>product_id</th>\n",
       "      <th>product_name</th>\n",
       "      <th>discounted_price</th>\n",
       "      <th>actual_price</th>\n",
       "      <th>discount_percentage</th>\n",
       "      <th>rating</th>\n",
       "      <th>rating_count</th>\n",
       "      <th>Category</th>\n",
       "      <th>Sub category</th>\n",
       "    </tr>\n",
       "  </thead>\n",
       "  <tbody>\n",
       "    <tr>\n",
       "      <th>0</th>\n",
       "      <td>B07JW9H4J1</td>\n",
       "      <td>Wayona Nylon Braided USB to Lightning Fast Cha...</td>\n",
       "      <td>399.0</td>\n",
       "      <td>1099.0</td>\n",
       "      <td>64.0</td>\n",
       "      <td>4.2</td>\n",
       "      <td>24269.0</td>\n",
       "      <td>Computers&amp;Accessories</td>\n",
       "      <td>Accessories&amp;Peripherals</td>\n",
       "    </tr>\n",
       "    <tr>\n",
       "      <th>1</th>\n",
       "      <td>B098NS6PVG</td>\n",
       "      <td>Ambrane Unbreakable 60W / 3A Fast Charging 1.5...</td>\n",
       "      <td>199.0</td>\n",
       "      <td>349.0</td>\n",
       "      <td>43.0</td>\n",
       "      <td>4.0</td>\n",
       "      <td>43994.0</td>\n",
       "      <td>Computers&amp;Accessories</td>\n",
       "      <td>Accessories&amp;Peripherals</td>\n",
       "    </tr>\n",
       "    <tr>\n",
       "      <th>2</th>\n",
       "      <td>B096MSW6CT</td>\n",
       "      <td>Sounce Fast Phone Charging Cable &amp; Data Sync U...</td>\n",
       "      <td>199.0</td>\n",
       "      <td>1899.0</td>\n",
       "      <td>90.0</td>\n",
       "      <td>3.9</td>\n",
       "      <td>7928.0</td>\n",
       "      <td>Computers&amp;Accessories</td>\n",
       "      <td>Accessories&amp;Peripherals</td>\n",
       "    </tr>\n",
       "    <tr>\n",
       "      <th>3</th>\n",
       "      <td>B08HDJ86NZ</td>\n",
       "      <td>boAt Deuce USB 300 2 in 1 Type-C &amp; Micro USB S...</td>\n",
       "      <td>329.0</td>\n",
       "      <td>699.0</td>\n",
       "      <td>53.0</td>\n",
       "      <td>4.2</td>\n",
       "      <td>94363.0</td>\n",
       "      <td>Computers&amp;Accessories</td>\n",
       "      <td>Accessories&amp;Peripherals</td>\n",
       "    </tr>\n",
       "    <tr>\n",
       "      <th>4</th>\n",
       "      <td>B08CF3B7N1</td>\n",
       "      <td>Portronics Konnect L 1.2M Fast Charging 3A 8 P...</td>\n",
       "      <td>154.0</td>\n",
       "      <td>399.0</td>\n",
       "      <td>61.0</td>\n",
       "      <td>4.2</td>\n",
       "      <td>16905.0</td>\n",
       "      <td>Computers&amp;Accessories</td>\n",
       "      <td>Accessories&amp;Peripherals</td>\n",
       "    </tr>\n",
       "  </tbody>\n",
       "</table>\n",
       "</div>"
      ],
      "text/plain": [
       "   product_id                                       product_name  \\\n",
       "0  B07JW9H4J1  Wayona Nylon Braided USB to Lightning Fast Cha...   \n",
       "1  B098NS6PVG  Ambrane Unbreakable 60W / 3A Fast Charging 1.5...   \n",
       "2  B096MSW6CT  Sounce Fast Phone Charging Cable & Data Sync U...   \n",
       "3  B08HDJ86NZ  boAt Deuce USB 300 2 in 1 Type-C & Micro USB S...   \n",
       "4  B08CF3B7N1  Portronics Konnect L 1.2M Fast Charging 3A 8 P...   \n",
       "\n",
       "   discounted_price  actual_price  discount_percentage  rating  rating_count  \\\n",
       "0             399.0        1099.0                 64.0     4.2       24269.0   \n",
       "1             199.0         349.0                 43.0     4.0       43994.0   \n",
       "2             199.0        1899.0                 90.0     3.9        7928.0   \n",
       "3             329.0         699.0                 53.0     4.2       94363.0   \n",
       "4             154.0         399.0                 61.0     4.2       16905.0   \n",
       "\n",
       "                Category             Sub category  \n",
       "0  Computers&Accessories  Accessories&Peripherals  \n",
       "1  Computers&Accessories  Accessories&Peripherals  \n",
       "2  Computers&Accessories  Accessories&Peripherals  \n",
       "3  Computers&Accessories  Accessories&Peripherals  \n",
       "4  Computers&Accessories  Accessories&Peripherals  "
      ]
     },
     "execution_count": 19,
     "metadata": {},
     "output_type": "execute_result"
    }
   ],
   "source": [
    "df['Category'] = category_split['Category']\n",
    "df['Sub category'] = category_split['Sub category']\n",
    "df.drop(columns ='category', inplace=True)\n",
    "df.head()"
   ]
  },
  {
   "cell_type": "code",
   "execution_count": 20,
   "id": "11ab4754",
   "metadata": {},
   "outputs": [
    {
     "data": {
      "text/plain": [
       "Category\n",
       "Electronics              526\n",
       "Computers&Accessories    451\n",
       "Home&Kitchen             448\n",
       "OfficeProducts            31\n",
       "MusicalInstruments         2\n",
       "HomeImprovement            2\n",
       "Toys&Games                 1\n",
       "Car&Motorbike              1\n",
       "Health&PersonalCare        1\n",
       "Name: count, dtype: int64"
      ]
     },
     "execution_count": 20,
     "metadata": {},
     "output_type": "execute_result"
    }
   ],
   "source": [
    "df['Category'].value_counts()"
   ]
  },
  {
   "cell_type": "code",
   "execution_count": 21,
   "id": "63b05823",
   "metadata": {},
   "outputs": [],
   "source": [
    "df['Category']= df['Category'].str.replace('&',' & ')\n",
    "df['Category']= df['Category'].str.replace('OfficeProfucts', 'Office Products')\n",
    "df['Category']= df['Category'].str.replace('MusicalInstruments', 'Musical Instruments')\n",
    "df['Category']= df['Category'].str.replace('HomeImprovement', 'Home Improvement')"
   ]
  },
  {
   "cell_type": "code",
   "execution_count": 22,
   "id": "7ccd8e0f",
   "metadata": {},
   "outputs": [
    {
     "data": {
      "text/plain": [
       "Sub category\n",
       "Accessories&Peripherals                    379\n",
       "Kitchen&HomeAppliances                     308\n",
       "HomeTheater,TV&Video                       162\n",
       "Mobiles&Accessories                        161\n",
       "Heating,Cooling&AirQuality                 116\n",
       "WearableTechnology                          76\n",
       "Headphones,Earbuds&Accessories              66\n",
       "NetworkingDevices                           34\n",
       "OfficePaperProducts                         27\n",
       "ExternalDevices&DataStorage                 18\n",
       "Cameras&Photography                         16\n",
       "HomeStorage&Organization                    16\n",
       "HomeAudio                                   16\n",
       "GeneralPurposeBatteries&BatteryChargers     14\n",
       "Accessories                                 14\n",
       "Printers,Inks&Accessories                   11\n",
       "CraftMaterials                               7\n",
       "Components                                   5\n",
       "OfficeElectronics                            4\n",
       "Electrical                                   2\n",
       "Monitors                                     2\n",
       "Microphones                                  2\n",
       "Arts&Crafts                                  1\n",
       "PowerAccessories                             1\n",
       "Tablets                                      1\n",
       "Laptops                                      1\n",
       "Kitchen&Dining                               1\n",
       "CarAccessories                               1\n",
       "HomeMedicalSupplies&Equipment                1\n",
       "Name: count, dtype: int64"
      ]
     },
     "execution_count": 22,
     "metadata": {},
     "output_type": "execute_result"
    }
   ],
   "source": [
    "df['Sub category'].value_counts()"
   ]
  },
  {
   "cell_type": "code",
   "execution_count": 23,
   "id": "292f4be4",
   "metadata": {},
   "outputs": [],
   "source": [
    "df['Sub category'] = df['Sub category'].str.replace('&', ' & ')\n",
    "df['Sub category'] = df['Sub category'].str.replace(',', ', ')\n",
    "df['Sub category'] = df['Sub category'].str.replace('HomeAppliances', 'Home Appliances')\n",
    "df['Sub category'] = df['Sub category'].str.replace('AirQuality', 'Air Quality')\n",
    "df['Sub category'] = df['Sub category'].str.replace('WearableTechnology', 'Wearable Technology')\n",
    "df['Sub category'] = df['Sub category'].str.replace('NetworkingDevices', 'Networking Devices')\n",
    "df['Sub category'] = df['Sub category'].str.replace('OfficePaperProducts', 'Office Paper Products')\n",
    "df['Sub category'] = df['Sub category'].str.replace('ExternalDevices', 'External Devices')\n",
    "df['Sub category'] = df['Sub category'].str.replace('DataStorage', 'Data Storage')\n",
    "df['Sub category'] = df['Sub category'].str.replace('HomeStorage', 'Home Storage')\n",
    "df['Sub category'] = df['Sub category'].str.replace('HomeAudio', 'Home Audio')\n",
    "df['Sub category'] = df['Sub category'].str.replace('GeneralPurposeBatteries', 'General Purpose Batteries')\n",
    "df['Sub category'] = df['Sub category'].str.replace('BatteryChargers', 'Battery Chargers')\n",
    "df['Sub category'] = df['Sub category'].str.replace('CraftMaterials', 'Craft Materials')\n",
    "df['Sub category'] = df['Sub category'].str.replace('OfficeElectronics', 'Office Electronics')\n",
    "df['Sub category'] = df['Sub category'].str.replace('PowerAccessories', 'Power Accessories')\n",
    "df['Sub category'] = df['Sub category'].str.replace('CarAccessories', 'Car Accessories')\n",
    "df['Sub category'] = df['Sub category'].str.replace('HomeMedicalSupplies', 'Home Medical Supplies')\n",
    "df['Sub category'] = df['Sub category'].str.replace('HomeTheater', 'Home Theater')"
   ]
  },
  {
   "cell_type": "code",
   "execution_count": 24,
   "id": "5efa4553",
   "metadata": {},
   "outputs": [
    {
     "data": {
      "text/html": [
       "<div>\n",
       "<style scoped>\n",
       "    .dataframe tbody tr th:only-of-type {\n",
       "        vertical-align: middle;\n",
       "    }\n",
       "\n",
       "    .dataframe tbody tr th {\n",
       "        vertical-align: top;\n",
       "    }\n",
       "\n",
       "    .dataframe thead th {\n",
       "        text-align: right;\n",
       "    }\n",
       "</style>\n",
       "<table border=\"1\" class=\"dataframe\">\n",
       "  <thead>\n",
       "    <tr style=\"text-align: right;\">\n",
       "      <th></th>\n",
       "      <th>product_id</th>\n",
       "      <th>product_name</th>\n",
       "      <th>discounted_price</th>\n",
       "      <th>actual_price</th>\n",
       "      <th>discount_percentage</th>\n",
       "      <th>rating</th>\n",
       "      <th>rating_count</th>\n",
       "      <th>Category</th>\n",
       "      <th>Sub category</th>\n",
       "    </tr>\n",
       "  </thead>\n",
       "  <tbody>\n",
       "    <tr>\n",
       "      <th>0</th>\n",
       "      <td>B07JW9H4J1</td>\n",
       "      <td>Wayona Nylon Braided USB to Lightning Fast Cha...</td>\n",
       "      <td>399.0</td>\n",
       "      <td>1099.0</td>\n",
       "      <td>64.0</td>\n",
       "      <td>4.2</td>\n",
       "      <td>24269.0</td>\n",
       "      <td>Computers &amp; Accessories</td>\n",
       "      <td>Accessories &amp; Peripherals</td>\n",
       "    </tr>\n",
       "    <tr>\n",
       "      <th>1</th>\n",
       "      <td>B098NS6PVG</td>\n",
       "      <td>Ambrane Unbreakable 60W / 3A Fast Charging 1.5...</td>\n",
       "      <td>199.0</td>\n",
       "      <td>349.0</td>\n",
       "      <td>43.0</td>\n",
       "      <td>4.0</td>\n",
       "      <td>43994.0</td>\n",
       "      <td>Computers &amp; Accessories</td>\n",
       "      <td>Accessories &amp; Peripherals</td>\n",
       "    </tr>\n",
       "    <tr>\n",
       "      <th>2</th>\n",
       "      <td>B096MSW6CT</td>\n",
       "      <td>Sounce Fast Phone Charging Cable &amp; Data Sync U...</td>\n",
       "      <td>199.0</td>\n",
       "      <td>1899.0</td>\n",
       "      <td>90.0</td>\n",
       "      <td>3.9</td>\n",
       "      <td>7928.0</td>\n",
       "      <td>Computers &amp; Accessories</td>\n",
       "      <td>Accessories &amp; Peripherals</td>\n",
       "    </tr>\n",
       "    <tr>\n",
       "      <th>3</th>\n",
       "      <td>B08HDJ86NZ</td>\n",
       "      <td>boAt Deuce USB 300 2 in 1 Type-C &amp; Micro USB S...</td>\n",
       "      <td>329.0</td>\n",
       "      <td>699.0</td>\n",
       "      <td>53.0</td>\n",
       "      <td>4.2</td>\n",
       "      <td>94363.0</td>\n",
       "      <td>Computers &amp; Accessories</td>\n",
       "      <td>Accessories &amp; Peripherals</td>\n",
       "    </tr>\n",
       "    <tr>\n",
       "      <th>4</th>\n",
       "      <td>B08CF3B7N1</td>\n",
       "      <td>Portronics Konnect L 1.2M Fast Charging 3A 8 P...</td>\n",
       "      <td>154.0</td>\n",
       "      <td>399.0</td>\n",
       "      <td>61.0</td>\n",
       "      <td>4.2</td>\n",
       "      <td>16905.0</td>\n",
       "      <td>Computers &amp; Accessories</td>\n",
       "      <td>Accessories &amp; Peripherals</td>\n",
       "    </tr>\n",
       "  </tbody>\n",
       "</table>\n",
       "</div>"
      ],
      "text/plain": [
       "   product_id                                       product_name  \\\n",
       "0  B07JW9H4J1  Wayona Nylon Braided USB to Lightning Fast Cha...   \n",
       "1  B098NS6PVG  Ambrane Unbreakable 60W / 3A Fast Charging 1.5...   \n",
       "2  B096MSW6CT  Sounce Fast Phone Charging Cable & Data Sync U...   \n",
       "3  B08HDJ86NZ  boAt Deuce USB 300 2 in 1 Type-C & Micro USB S...   \n",
       "4  B08CF3B7N1  Portronics Konnect L 1.2M Fast Charging 3A 8 P...   \n",
       "\n",
       "   discounted_price  actual_price  discount_percentage  rating  rating_count  \\\n",
       "0             399.0        1099.0                 64.0     4.2       24269.0   \n",
       "1             199.0         349.0                 43.0     4.0       43994.0   \n",
       "2             199.0        1899.0                 90.0     3.9        7928.0   \n",
       "3             329.0         699.0                 53.0     4.2       94363.0   \n",
       "4             154.0         399.0                 61.0     4.2       16905.0   \n",
       "\n",
       "                  Category               Sub category  \n",
       "0  Computers & Accessories  Accessories & Peripherals  \n",
       "1  Computers & Accessories  Accessories & Peripherals  \n",
       "2  Computers & Accessories  Accessories & Peripherals  \n",
       "3  Computers & Accessories  Accessories & Peripherals  \n",
       "4  Computers & Accessories  Accessories & Peripherals  "
      ]
     },
     "execution_count": 24,
     "metadata": {},
     "output_type": "execute_result"
    }
   ],
   "source": [
    "df.head()"
   ]
  },
  {
   "cell_type": "code",
   "execution_count": 25,
   "id": "5ed2135b",
   "metadata": {},
   "outputs": [
    {
     "data": {
      "text/html": [
       "<div>\n",
       "<style scoped>\n",
       "    .dataframe tbody tr th:only-of-type {\n",
       "        vertical-align: middle;\n",
       "    }\n",
       "\n",
       "    .dataframe tbody tr th {\n",
       "        vertical-align: top;\n",
       "    }\n",
       "\n",
       "    .dataframe thead th {\n",
       "        text-align: right;\n",
       "    }\n",
       "</style>\n",
       "<table border=\"1\" class=\"dataframe\">\n",
       "  <thead>\n",
       "    <tr style=\"text-align: right;\">\n",
       "      <th></th>\n",
       "      <th>product_id</th>\n",
       "      <th>product_name</th>\n",
       "      <th>discounted_price</th>\n",
       "      <th>actual_price</th>\n",
       "      <th>discount_percentage</th>\n",
       "      <th>rating</th>\n",
       "      <th>rating_count</th>\n",
       "      <th>Category</th>\n",
       "      <th>Sub category</th>\n",
       "    </tr>\n",
       "  </thead>\n",
       "  <tbody>\n",
       "    <tr>\n",
       "      <th>555</th>\n",
       "      <td>B0B1NX6JTN</td>\n",
       "      <td>Spigen Ultra Hybrid Back Cover Case Compatible...</td>\n",
       "      <td>1599.0</td>\n",
       "      <td>2599.0</td>\n",
       "      <td>38.0</td>\n",
       "      <td>4.3</td>\n",
       "      <td>1801.0</td>\n",
       "      <td>Electronics</td>\n",
       "      <td>Mobiles &amp; Accessories</td>\n",
       "    </tr>\n",
       "  </tbody>\n",
       "</table>\n",
       "</div>"
      ],
      "text/plain": [
       "     product_id                                       product_name  \\\n",
       "555  B0B1NX6JTN  Spigen Ultra Hybrid Back Cover Case Compatible...   \n",
       "\n",
       "     discounted_price  actual_price  discount_percentage  rating  \\\n",
       "555            1599.0        2599.0                 38.0     4.3   \n",
       "\n",
       "     rating_count     Category           Sub category  \n",
       "555        1801.0  Electronics  Mobiles & Accessories  "
      ]
     },
     "execution_count": 25,
     "metadata": {},
     "output_type": "execute_result"
    }
   ],
   "source": [
    "df.sample()"
   ]
  },
  {
   "cell_type": "markdown",
   "id": "4140176a",
   "metadata": {},
   "source": [
    "# Exploratory Data Analysis"
   ]
  },
  {
   "cell_type": "code",
   "execution_count": 26,
   "id": "92e50775",
   "metadata": {},
   "outputs": [
    {
     "data": {
      "text/html": [
       "<div>\n",
       "<style scoped>\n",
       "    .dataframe tbody tr th:only-of-type {\n",
       "        vertical-align: middle;\n",
       "    }\n",
       "\n",
       "    .dataframe tbody tr th {\n",
       "        vertical-align: top;\n",
       "    }\n",
       "\n",
       "    .dataframe thead th {\n",
       "        text-align: right;\n",
       "    }\n",
       "</style>\n",
       "<table border=\"1\" class=\"dataframe\">\n",
       "  <thead>\n",
       "    <tr style=\"text-align: right;\">\n",
       "      <th></th>\n",
       "      <th>discounted_price</th>\n",
       "      <th>actual_price</th>\n",
       "      <th>discount_percentage</th>\n",
       "      <th>rating</th>\n",
       "      <th>rating_count</th>\n",
       "    </tr>\n",
       "  </thead>\n",
       "  <tbody>\n",
       "    <tr>\n",
       "      <th>count</th>\n",
       "      <td>1463.000000</td>\n",
       "      <td>1463.000000</td>\n",
       "      <td>1463.000000</td>\n",
       "      <td>1463.000000</td>\n",
       "      <td>1463.000000</td>\n",
       "    </tr>\n",
       "    <tr>\n",
       "      <th>mean</th>\n",
       "      <td>3129.277122</td>\n",
       "      <td>5451.068544</td>\n",
       "      <td>47.650718</td>\n",
       "      <td>4.096719</td>\n",
       "      <td>18295.541353</td>\n",
       "    </tr>\n",
       "    <tr>\n",
       "      <th>std</th>\n",
       "      <td>6948.222850</td>\n",
       "      <td>10881.018448</td>\n",
       "      <td>21.622373</td>\n",
       "      <td>0.289398</td>\n",
       "      <td>42753.864952</td>\n",
       "    </tr>\n",
       "    <tr>\n",
       "      <th>min</th>\n",
       "      <td>39.000000</td>\n",
       "      <td>39.000000</td>\n",
       "      <td>0.000000</td>\n",
       "      <td>2.000000</td>\n",
       "      <td>2.000000</td>\n",
       "    </tr>\n",
       "    <tr>\n",
       "      <th>25%</th>\n",
       "      <td>325.000000</td>\n",
       "      <td>800.000000</td>\n",
       "      <td>32.000000</td>\n",
       "      <td>4.000000</td>\n",
       "      <td>1186.000000</td>\n",
       "    </tr>\n",
       "    <tr>\n",
       "      <th>50%</th>\n",
       "      <td>799.000000</td>\n",
       "      <td>1690.000000</td>\n",
       "      <td>50.000000</td>\n",
       "      <td>4.100000</td>\n",
       "      <td>5179.000000</td>\n",
       "    </tr>\n",
       "    <tr>\n",
       "      <th>75%</th>\n",
       "      <td>1999.000000</td>\n",
       "      <td>4312.500000</td>\n",
       "      <td>63.000000</td>\n",
       "      <td>4.300000</td>\n",
       "      <td>17336.500000</td>\n",
       "    </tr>\n",
       "    <tr>\n",
       "      <th>max</th>\n",
       "      <td>77990.000000</td>\n",
       "      <td>139900.000000</td>\n",
       "      <td>94.000000</td>\n",
       "      <td>5.000000</td>\n",
       "      <td>426973.000000</td>\n",
       "    </tr>\n",
       "  </tbody>\n",
       "</table>\n",
       "</div>"
      ],
      "text/plain": [
       "       discounted_price   actual_price  discount_percentage       rating  \\\n",
       "count       1463.000000    1463.000000          1463.000000  1463.000000   \n",
       "mean        3129.277122    5451.068544            47.650718     4.096719   \n",
       "std         6948.222850   10881.018448            21.622373     0.289398   \n",
       "min           39.000000      39.000000             0.000000     2.000000   \n",
       "25%          325.000000     800.000000            32.000000     4.000000   \n",
       "50%          799.000000    1690.000000            50.000000     4.100000   \n",
       "75%         1999.000000    4312.500000            63.000000     4.300000   \n",
       "max        77990.000000  139900.000000            94.000000     5.000000   \n",
       "\n",
       "        rating_count  \n",
       "count    1463.000000  \n",
       "mean    18295.541353  \n",
       "std     42753.864952  \n",
       "min         2.000000  \n",
       "25%      1186.000000  \n",
       "50%      5179.000000  \n",
       "75%     17336.500000  \n",
       "max    426973.000000  "
      ]
     },
     "execution_count": 26,
     "metadata": {},
     "output_type": "execute_result"
    }
   ],
   "source": [
    "df.describe()"
   ]
  },
  {
   "cell_type": "markdown",
   "id": "bb539fae",
   "metadata": {},
   "source": [
    "# Plotting Histplot to visualize the distribution of numeric columns"
   ]
  },
  {
   "cell_type": "code",
   "execution_count": 27,
   "id": "b1e11619",
   "metadata": {},
   "outputs": [
    {
     "data": {
      "image/png": "[encoded data removed]",
      "text/plain": [
       "<Figure size 1080x720 with 6 Axes>"
      ]
     },
     "metadata": {
      "needs_background": "light"
     },
     "output_type": "display_data"
    }
   ],
   "source": [
    "numeric = df.select_dtypes(include=[float, int])\n",
    "\n",
    "fig, axes = plt.subplots(2, 3, figsize=(15, 10))\n",
    "axes = axes.flatten()\n",
    "\n",
    "for i, col in enumerate(numeric.columns):\n",
    "    if i < 5:  \n",
    "        axes[i].hist(df[col].values, bins=20, color='pink', edgecolor='black')\n",
    "        axes[i].set_xlabel(col.capitalize())\n",
    "        axes[i].set_ylabel(\"Count\")\n",
    "        axes[i].set_title(f\"Histogram of {col.capitalize()}\")\n",
    "\n",
    "for i in range(len(numeric.columns), len(axes)):\n",
    "    axes[i].axis('off')\n",
    "\n",
    "plt.tight_layout()\n",
    "plt.show()"
   ]
  },
  {
   "cell_type": "markdown",
   "id": "24f1dd6c",
   "metadata": {},
   "source": [
    "From the charts above, we can observe that the columns 'Discounted Price,' 'Actual Price,' and 'Rating Count' exhibit a significant right-skewed distribution with a wide spread.\n",
    "\n",
    "The ratings for most products fall within the range of 3.7 to 4.5. The distribution of ratings is left-skewed, and no products have received ratings below 2.0. The left-skewed distribution of ratings, with no products rated below 2.0, suggests that customers generally provide favorable ratings for these products. This positive sentiment is an encouraging sign for the quality and satisfaction level of the products.\n",
    "\n",
    "The 'Discount Percentage' column shows a more balanced scale, with the majority of products having discounts ranging between 50% and 60%. Consequently, it follows a normal distribution pattern. "
   ]
  },
  {
   "cell_type": "markdown",
   "id": "3624be4f",
   "metadata": {},
   "source": [
    "# Plotting Countplot to visualize the count or frequency of ocuurences of categorical variables"
   ]
  },
  {
   "cell_type": "code",
   "execution_count": 28,
   "id": "f6588bcb",
   "metadata": {},
   "outputs": [
    {
     "data": {
      "image/png": "[encoded data removed]",
      "text/plain": [
       "<Figure size 864x432 with 2 Axes>"
      ]
     },
     "metadata": {
      "needs_background": "light"
     },
     "output_type": "display_data"
    }
   ],
   "source": [
    "plt.figure(figsize=(12, 6))\n",
    "\n",
    "plt.subplot(1, 2, 1)\n",
    "sns.countplot(data=df, x='Category', order=df['Category'].value_counts().index)\n",
    "plt.xticks(rotation=90) \n",
    "plt.title('Count Plot of Category')\n",
    "\n",
    "plt.subplot(1, 2, 2)\n",
    "sns.countplot(data=df, x='Sub category', order=df['Sub category'].value_counts().index)\n",
    "plt.xticks(rotation=90) \n",
    "plt.title('Count Plot of Sub Category')\n",
    "\n",
    "plt.tight_layout()\n",
    "plt.show()"
   ]
  },
  {
   "cell_type": "markdown",
   "id": "1bf2f2b3",
   "metadata": {},
   "source": [
    "Electronis, Computer & Accessories and Home & Kitchen account for most of the products in this dataset. In general, most products are related to technology and eletronic devices. Knowing that most products are technology-related allows for more targeted messaging and product recommendations to tech-savvy customers. Customers might be more inclined to purchase and review technology and electronic items, indicating the popularity of these product categories."
   ]
  },
  {
   "cell_type": "code",
   "execution_count": 29,
   "id": "0f57fefa",
   "metadata": {},
   "outputs": [
    {
     "data": {
      "image/png": "[encoded data removed]",
      "text/plain": [
       "<Figure size 720x576 with 2 Axes>"
      ]
     },
     "metadata": {
      "needs_background": "light"
     },
     "output_type": "display_data"
    }
   ],
   "source": [
    "corr = df.select_dtypes('number').corr()\n",
    "plt.figure(figsize=(10, 8))\n",
    "sns.heatmap(data = corr, annot = True, linewidths = 1)\n",
    "plt.title('Correlation between features', fontweight = 'bold')\n",
    "plt.show()"
   ]
  },
  {
   "cell_type": "markdown",
   "id": "80ab11fe",
   "metadata": {},
   "source": [
    "In this dataset, there isn't a strong correlation between most variables, except for the \"Actual Price\" and \"Discounted Price\" columns, which exhibit a notable correlation.\n",
    "\n",
    "The significant positive correlation between the \"Actual Price\" and \"Discounted Price\" implies that as the original or actual price of a product increases, so does the discounted price. This suggests a consistent pricing strategy where discounts are applied proportionally to the original price."
   ]
  },
  {
   "cell_type": "code",
   "execution_count": 47,
   "id": "7b8dd3e1",
   "metadata": {},
   "outputs": [
    {
     "data": {
      "image/png": "[encoded data removed]",
      "text/plain": [
       "<Figure size 720x576 with 1 Axes>"
      ]
     },
     "metadata": {
      "needs_background": "light"
     },
     "output_type": "display_data"
    }
   ],
   "source": [
    "plt.figure(figsize=(10, 8))\n",
    "sns.scatterplot(data = df, x='actual_price', y='discounted_price')\n",
    "plt.title('Correlation between actual price and discounted price', fontweight = 'bold')\n",
    "plt.xlabel('Actual price', fontweight = 'bold')\n",
    "plt.ylabel('Discounted price', fontweight = 'bold')\n",
    "plt.show()"
   ]
  },
  {
   "cell_type": "markdown",
   "id": "3b44d979",
   "metadata": {},
   "source": [
    "# Outlier Analysis"
   ]
  },
  {
   "cell_type": "code",
   "execution_count": 30,
   "id": "c7162167",
   "metadata": {
    "scrolled": false
   },
   "outputs": [
    {
     "data": {
      "image/png": "[encoded data removed]",
      "text/plain": [
       "<Figure size 1224x1080 with 6 Axes>"
      ]
     },
     "metadata": {
      "needs_background": "light"
     },
     "output_type": "display_data"
    }
   ],
   "source": [
    "numeric = df.select_dtypes(include=[float, int])\n",
    "\n",
    "num_cols = len(numeric.columns)\n",
    "num_rows = (num_cols + 1) // 2 \n",
    "\n",
    "fig, axes = plt.subplots(num_rows, 2, figsize=(17, num_rows * 5))\n",
    "\n",
    "axes = axes.flatten()\n",
    "\n",
    "for i, category in enumerate(numeric.columns):\n",
    "    sns.boxplot(x=category, data=df, ax=axes[i])\n",
    "    axes[i].set_xlabel(category.capitalize())\n",
    "    axes[i].set_ylabel(\"Count\")\n",
    "    axes[i].set_title(f\"Box Plot of {category.capitalize()}\")\n",
    "\n",
    "for j in range(num_cols, len(axes)):\n",
    "    axes[j].axis('off')\n",
    "\n",
    "plt.tight_layout()\n",
    "plt.show()"
   ]
  },
  {
   "cell_type": "markdown",
   "id": "a4c257ed",
   "metadata": {},
   "source": [
    "These high prices in the \"Actual Price\" and \"Discounted Price\" columns may indeed be legitimate, possibly associated with luxury or premium products or specific expensive categories. By plotting the data in this manner, we can gain insights into the distribution of prices across different product categories and better understand which categories tend to have higher price points."
   ]
  },
  {
   "cell_type": "code",
   "execution_count": 31,
   "id": "bcefcf5f",
   "metadata": {},
   "outputs": [
    {
     "data": {
      "image/png": "[encoded data removed]",
      "text/plain": [
       "<Figure size 864x432 with 1 Axes>"
      ]
     },
     "metadata": {
      "needs_background": "light"
     },
     "output_type": "display_data"
    }
   ],
   "source": [
    "category_price = df.groupby('Category')['actual_price'].mean().reset_index()\n",
    "\n",
    "category_price = category_price.sort_values(by='actual_price', ascending=False)\n",
    "\n",
    "plt.figure(figsize=(12, 6))\n",
    "sns.barplot(x='actual_price', y='Category', data=category_price, palette='viridis')\n",
    "plt.xlabel('Mean Actual Price')\n",
    "plt.ylabel('Category')\n",
    "plt.title('Category-wise Mean Actual Prices')\n",
    "plt.show()"
   ]
  },
  {
   "cell_type": "markdown",
   "id": "92619a96",
   "metadata": {},
   "source": [
    "The category \"Electronics\" has the most expensive products."
   ]
  },
  {
   "cell_type": "markdown",
   "id": "da554208",
   "metadata": {},
   "source": [
    "# Creating new column rating score"
   ]
  },
  {
   "cell_type": "code",
   "execution_count": 37,
   "id": "f3585f40",
   "metadata": {},
   "outputs": [],
   "source": [
    "rating_score = []\n",
    "for i in df['rating']:\n",
    "    if i < 2.0: rating_score.append('Very unsatisfied')\n",
    "    elif i < 3.0: rating_score.append('Unsatisfied')\n",
    "    elif i < 4.0: rating_score.append('Neutral')\n",
    "    elif i < 5.0: rating_score.append('Satisfied')\n",
    "    elif i == 5.0: rating_score.append('Very satisfied')"
   ]
  },
  {
   "cell_type": "code",
   "execution_count": 39,
   "id": "64108793",
   "metadata": {},
   "outputs": [
    {
     "data": {
      "text/html": [
       "<div>\n",
       "<style scoped>\n",
       "    .dataframe tbody tr th:only-of-type {\n",
       "        vertical-align: middle;\n",
       "    }\n",
       "\n",
       "    .dataframe tbody tr th {\n",
       "        vertical-align: top;\n",
       "    }\n",
       "\n",
       "    .dataframe thead th {\n",
       "        text-align: right;\n",
       "    }\n",
       "</style>\n",
       "<table border=\"1\" class=\"dataframe\">\n",
       "  <thead>\n",
       "    <tr style=\"text-align: right;\">\n",
       "      <th></th>\n",
       "      <th>product_id</th>\n",
       "      <th>product_name</th>\n",
       "      <th>discounted_price</th>\n",
       "      <th>actual_price</th>\n",
       "      <th>discount_percentage</th>\n",
       "      <th>rating</th>\n",
       "      <th>rating_count</th>\n",
       "      <th>Category</th>\n",
       "      <th>Sub category</th>\n",
       "      <th>rating_score</th>\n",
       "    </tr>\n",
       "  </thead>\n",
       "  <tbody>\n",
       "    <tr>\n",
       "      <th>0</th>\n",
       "      <td>B07JW9H4J1</td>\n",
       "      <td>Wayona Nylon Braided USB to Lightning Fast Cha...</td>\n",
       "      <td>399.0</td>\n",
       "      <td>1099.0</td>\n",
       "      <td>64.0</td>\n",
       "      <td>4.2</td>\n",
       "      <td>24269.0</td>\n",
       "      <td>Computers &amp; Accessories</td>\n",
       "      <td>Accessories &amp; Peripherals</td>\n",
       "      <td>Satisfied</td>\n",
       "    </tr>\n",
       "    <tr>\n",
       "      <th>1</th>\n",
       "      <td>B098NS6PVG</td>\n",
       "      <td>Ambrane Unbreakable 60W / 3A Fast Charging 1.5...</td>\n",
       "      <td>199.0</td>\n",
       "      <td>349.0</td>\n",
       "      <td>43.0</td>\n",
       "      <td>4.0</td>\n",
       "      <td>43994.0</td>\n",
       "      <td>Computers &amp; Accessories</td>\n",
       "      <td>Accessories &amp; Peripherals</td>\n",
       "      <td>Satisfied</td>\n",
       "    </tr>\n",
       "    <tr>\n",
       "      <th>2</th>\n",
       "      <td>B096MSW6CT</td>\n",
       "      <td>Sounce Fast Phone Charging Cable &amp; Data Sync U...</td>\n",
       "      <td>199.0</td>\n",
       "      <td>1899.0</td>\n",
       "      <td>90.0</td>\n",
       "      <td>3.9</td>\n",
       "      <td>7928.0</td>\n",
       "      <td>Computers &amp; Accessories</td>\n",
       "      <td>Accessories &amp; Peripherals</td>\n",
       "      <td>Neutral</td>\n",
       "    </tr>\n",
       "    <tr>\n",
       "      <th>3</th>\n",
       "      <td>B08HDJ86NZ</td>\n",
       "      <td>boAt Deuce USB 300 2 in 1 Type-C &amp; Micro USB S...</td>\n",
       "      <td>329.0</td>\n",
       "      <td>699.0</td>\n",
       "      <td>53.0</td>\n",
       "      <td>4.2</td>\n",
       "      <td>94363.0</td>\n",
       "      <td>Computers &amp; Accessories</td>\n",
       "      <td>Accessories &amp; Peripherals</td>\n",
       "      <td>Satisfied</td>\n",
       "    </tr>\n",
       "    <tr>\n",
       "      <th>4</th>\n",
       "      <td>B08CF3B7N1</td>\n",
       "      <td>Portronics Konnect L 1.2M Fast Charging 3A 8 P...</td>\n",
       "      <td>154.0</td>\n",
       "      <td>399.0</td>\n",
       "      <td>61.0</td>\n",
       "      <td>4.2</td>\n",
       "      <td>16905.0</td>\n",
       "      <td>Computers &amp; Accessories</td>\n",
       "      <td>Accessories &amp; Peripherals</td>\n",
       "      <td>Satisfied</td>\n",
       "    </tr>\n",
       "  </tbody>\n",
       "</table>\n",
       "</div>"
      ],
      "text/plain": [
       "   product_id                                       product_name  \\\n",
       "0  B07JW9H4J1  Wayona Nylon Braided USB to Lightning Fast Cha...   \n",
       "1  B098NS6PVG  Ambrane Unbreakable 60W / 3A Fast Charging 1.5...   \n",
       "2  B096MSW6CT  Sounce Fast Phone Charging Cable & Data Sync U...   \n",
       "3  B08HDJ86NZ  boAt Deuce USB 300 2 in 1 Type-C & Micro USB S...   \n",
       "4  B08CF3B7N1  Portronics Konnect L 1.2M Fast Charging 3A 8 P...   \n",
       "\n",
       "   discounted_price  actual_price  discount_percentage  rating  rating_count  \\\n",
       "0             399.0        1099.0                 64.0     4.2       24269.0   \n",
       "1             199.0         349.0                 43.0     4.0       43994.0   \n",
       "2             199.0        1899.0                 90.0     3.9        7928.0   \n",
       "3             329.0         699.0                 53.0     4.2       94363.0   \n",
       "4             154.0         399.0                 61.0     4.2       16905.0   \n",
       "\n",
       "                  Category               Sub category rating_score  \n",
       "0  Computers & Accessories  Accessories & Peripherals    Satisfied  \n",
       "1  Computers & Accessories  Accessories & Peripherals    Satisfied  \n",
       "2  Computers & Accessories  Accessories & Peripherals      Neutral  \n",
       "3  Computers & Accessories  Accessories & Peripherals    Satisfied  \n",
       "4  Computers & Accessories  Accessories & Peripherals    Satisfied  "
      ]
     },
     "execution_count": 39,
     "metadata": {},
     "output_type": "execute_result"
    }
   ],
   "source": [
    "df['rating_score'] = rating_score\n",
    "df['rating_score'] = df['rating_score'].astype('category')\n",
    "df['rating_score'] = df['rating_score'].cat.reorder_categories(['Unsatisfied', 'Neutral', \n",
    "                                                                'Satisfied','Very satisfied'], ordered=True)\n",
    "df.head()"
   ]
  },
  {
   "cell_type": "code",
   "execution_count": 52,
   "id": "b2bf3264",
   "metadata": {},
   "outputs": [
    {
     "data": {
      "image/png": "[encoded data removed]",
      "text/plain": [
       "<Figure size 720x432 with 1 Axes>"
      ]
     },
     "metadata": {
      "needs_background": "light"
     },
     "output_type": "display_data"
    }
   ],
   "source": [
    "rating_score_counts = df['rating_score'].value_counts()\n",
    "total_products = len(df)\n",
    "percentage_products = (rating_score_counts / total_products) * 100\n",
    "\n",
    "plt.figure(figsize=(10, 6))\n",
    "ax = sns.barplot(x=percentage_products.index, y=percentage_products.values, palette=\"viridis\")\n",
    "plt.title('Percentage of Products by Rating Score', fontweight='bold')\n",
    "plt.xlabel('Rating Score', fontweight='bold')\n",
    "plt.ylabel('Percentage of Products', fontweight='bold')\n",
    "plt.xticks(rotation=45)  \n",
    "\n",
    "for p in ax.patches:\n",
    "    ax.annotate(f'{p.get_height():.1f}%', (p.get_x() + p.get_width() / 2., p.get_height()), \n",
    "                ha='center', va='center', fontsize=12, color='black', xytext=(0, 5), textcoords='offset points')\n",
    "\n",
    "plt.show()"
   ]
  },
  {
   "cell_type": "markdown",
   "id": "036a7f7a",
   "metadata": {},
   "source": [
    "Over 75% of the products listed in the marketplace are rated as 'Satisfied' by customers. This suggests that the majority of customers have positive experiences with the products, which is a positive indicator for the business. High customer satisfaction is often associated with repeat business, positive reviews, and word-of-mouth referrals.\n",
    "\n",
    "On the other hand, only 6 products, or approximately 0.4% of the total, receive an 'Unsatisfied' rating. This indicates that a very small fraction of products have received negative feedback from customers."
   ]
  },
  {
   "cell_type": "code",
   "execution_count": 56,
   "id": "a0a8f17e",
   "metadata": {},
   "outputs": [
    {
     "data": {
      "image/png": "[encoded data removed]",
      "text/plain": [
       "<Figure size 720x936 with 2 Axes>"
      ]
     },
     "metadata": {
      "needs_background": "light"
     },
     "output_type": "display_data"
    }
   ],
   "source": [
    "fig, ax = plt.subplots(2,1, figsize = (10,13))\n",
    "sns.scatterplot(ax = ax[0], data = df, x = 'actual_price', y = 'rating_score', color = 'orange')\n",
    "sns.scatterplot(ax = ax[1], data = df, x = 'discounted_price', y = 'rating_score', color ='green')\n",
    "\n",
    "ax[0].set_title('Actual Price Range by Rating Score', fontweight = 'bold')\n",
    "ax[1].set_title('Discounted Price Range by Rating Score', fontweight = 'bold')\n",
    "\n",
    "ax[0].set_xlabel('Actual Price', fontweight = 'bold')\n",
    "ax[1].set_xlabel('Discounted Price', fontweight = 'bold')\n",
    "\n",
    "ax[0].set_ylabel('Rating Score', fontweight = 'bold')\n",
    "ax[1].set_ylabel('Rating Score', fontweight = 'bold')\n",
    "\n",
    "plt.show()"
   ]
  },
  {
   "cell_type": "markdown",
   "id": "c103e3e1",
   "metadata": {},
   "source": [
    "There is a significant difference between the 'Actual Price' and 'Discounted Price' for products with 'Satisfied' scores. The majority of products have an 'Actual Price' ranging from 0 to 30,000. After applying discounts, most products' prices are reduced to under 20,000.\n",
    "\n",
    "The noticeable reduction in prices between the 'Actual Price' and 'Discounted Price' for 'Satisfied' products suggests that discounts play a crucial role in attracting and satisfying customers. This indicates that customers are more inclined to purchase products when they perceive a significant reduction in price."
   ]
  },
  {
   "cell_type": "markdown",
   "id": "bda6f34e",
   "metadata": {},
   "source": [
    "# Linear Regression Model Fitting"
   ]
  },
  {
   "cell_type": "code",
   "execution_count": 60,
   "id": "43110b0b",
   "metadata": {},
   "outputs": [],
   "source": [
    "X1 = df[['rating', 'rating_count', 'actual_price']]\n",
    "y1 = df['discounted_price']"
   ]
  },
  {
   "cell_type": "code",
   "execution_count": 61,
   "id": "2498e2b6",
   "metadata": {},
   "outputs": [],
   "source": [
    "from sklearn.model_selection import train_test_split\n",
    "from sklearn.linear_model import LinearRegression\n",
    "\n",
    "X1_train, X1_test, y1_train, y1_test = train_test_split(X1, y1, test_size = 0.2)\n",
    "lr_model = LinearRegression()\n",
    "lr_model.fit(X1_train, y1_train)\n",
    "\n",
    "y1_pred = lr_model.predict(X1_test)"
   ]
  },
  {
   "cell_type": "code",
   "execution_count": 62,
   "id": "21541e62",
   "metadata": {},
   "outputs": [
    {
     "name": "stdout",
     "output_type": "stream",
     "text": [
      "Linear Regression Intercept:  -677.7977343421817\n",
      "Linear Regression Coefficient:  [9.86000022e+01 1.04982281e-03 6.28138328e-01]\n",
      "R2 Score:  0.9348248187728516\n"
     ]
    }
   ],
   "source": [
    "from sklearn.metrics import r2_score\n",
    "\n",
    "print('Linear Regression Intercept: ',lr_model.intercept_)\n",
    "print('Linear Regression Coefficient: ',lr_model.coef_)\n",
    "print('R2 Score: ', r2_score(y1_test, y1_pred))"
   ]
  },
  {
   "cell_type": "code",
   "execution_count": 64,
   "id": "aef7e12f",
   "metadata": {},
   "outputs": [],
   "source": [
    "from sklearn.preprocessing import StandardScaler\n",
    "\n",
    "scaler = StandardScaler()\n",
    "\n",
    "X2 = df[['rating', 'rating_count', 'actual_price']]\n",
    "y2 = df['discounted_price']\n",
    "\n",
    "X2 = scaler.fit_transform(X2)"
   ]
  },
  {
   "cell_type": "code",
   "execution_count": 65,
   "id": "22a7c9ba",
   "metadata": {},
   "outputs": [
    {
     "name": "stdout",
     "output_type": "stream",
     "text": [
      "R2 Score: 0.8951318018990475\n"
     ]
    }
   ],
   "source": [
    "X2_train, X2_test, y2_train, y2_test = train_test_split(X2, y2, test_size = 0.2)\n",
    "\n",
    "lr_model.fit(X2_train, y2_train)\n",
    "\n",
    "y2_pred = lr_model.predict(X2_test)\n",
    "print('R2 Score:', r2_score(y2_test, y2_pred))"
   ]
  }
 ],
 "metadata": {
  "kernelspec": {
   "display_name": "Python 3",
   "language": "python",
   "name": "python3"
  },
  "language_info": {
   "codemirror_mode": {
    "name": "ipython",
    "version": 3
   },
   "file_extension": ".py",
   "mimetype": "text/x-python",
   "name": "python",
   "nbconvert_exporter": "python",
   "pygments_lexer": "ipython3",
   "version": "3.8.8"
  }
 },
 "nbformat": 4,
 "nbformat_minor": 5
}
